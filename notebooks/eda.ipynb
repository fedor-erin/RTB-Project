{
 "cells": [
  {
   "cell_type": "markdown",
   "metadata": {},
   "source": [
    "## EDA"
   ]
  },
  {
   "cell_type": "code",
   "execution_count": 2,
   "metadata": {},
   "outputs": [],
   "source": [
    "import numpy as np\n",
    "import pandas as pd\n",
    "import matplotlib.pyplot as plt"
   ]
  },
  {
   "cell_type": "code",
   "execution_count": 3,
   "metadata": {},
   "outputs": [],
   "source": [
    "def read_data(file_path):\n",
    "    return pd.read_csv(\n",
    "        file_path, \n",
    "        sep=';',\n",
    "        header=0,\n",
    "        compression='gzip', \n",
    "        parse_dates=['timestamp', 'lastStart']\n",
    "    )"
   ]
  },
  {
   "cell_type": "code",
   "execution_count": 4,
   "metadata": {},
   "outputs": [
    {
     "name": "stdout",
     "output_type": "stream",
     "text": [
      "(3738763, 17) (3739968, 16)\n",
      "CPU times: user 2min 10s, sys: 3.36 s, total: 2min 14s\n",
      "Wall time: 2min 14s\n"
     ]
    }
   ],
   "source": [
    "%%time\n",
    "train = read_data('../data/raw/training_data.csv.gz')\n",
    "test = read_data('../data/raw/test_data.csv.gz')\n",
    "print(train.shape, test.shape)"
   ]
  },
  {
   "cell_type": "code",
   "execution_count": 5,
   "metadata": {},
   "outputs": [
    {
     "data": {
      "text/html": [
       "<div>\n",
       "<style scoped>\n",
       "    .dataframe tbody tr th:only-of-type {\n",
       "        vertical-align: middle;\n",
       "    }\n",
       "\n",
       "    .dataframe tbody tr th {\n",
       "        vertical-align: top;\n",
       "    }\n",
       "\n",
       "    .dataframe thead th {\n",
       "        text-align: right;\n",
       "    }\n",
       "</style>\n",
       "<table border=\"1\" class=\"dataframe\">\n",
       "  <thead>\n",
       "    <tr style=\"text-align: right;\">\n",
       "      <th></th>\n",
       "      <th>id</th>\n",
       "      <th>timestamp</th>\n",
       "      <th>campaignId</th>\n",
       "      <th>platform</th>\n",
       "      <th>softwareVersion</th>\n",
       "      <th>sourceGameId</th>\n",
       "      <th>country</th>\n",
       "      <th>startCount</th>\n",
       "      <th>viewCount</th>\n",
       "      <th>clickCount</th>\n",
       "      <th>installCount</th>\n",
       "      <th>lastStart</th>\n",
       "      <th>startCount1d</th>\n",
       "      <th>startCount7d</th>\n",
       "      <th>connectionType</th>\n",
       "      <th>deviceType</th>\n",
       "      <th>install</th>\n",
       "    </tr>\n",
       "  </thead>\n",
       "  <tbody>\n",
       "    <tr>\n",
       "      <th>0</th>\n",
       "      <td>5c36658fb58fad351175f0b6</td>\n",
       "      <td>2019-01-09 21:20:15.943000+00:00</td>\n",
       "      <td>59687f0d896a6b0e5ce6ea15</td>\n",
       "      <td>ios</td>\n",
       "      <td>11.4.1</td>\n",
       "      <td>1373094</td>\n",
       "      <td>US</td>\n",
       "      <td>25</td>\n",
       "      <td>24</td>\n",
       "      <td>0</td>\n",
       "      <td>2</td>\n",
       "      <td>2019-01-08 18:49:48.129000+00:00</td>\n",
       "      <td>1</td>\n",
       "      <td>8</td>\n",
       "      <td>cellular</td>\n",
       "      <td>iPhone8,2</td>\n",
       "      <td>0</td>\n",
       "    </tr>\n",
       "    <tr>\n",
       "      <th>1</th>\n",
       "      <td>5c38d5ab1c16172870186b5a</td>\n",
       "      <td>2019-01-11 17:43:07.609000+00:00</td>\n",
       "      <td>59687f0d896a6b0e5ce6ea15</td>\n",
       "      <td>ios</td>\n",
       "      <td>12.1</td>\n",
       "      <td>2739989</td>\n",
       "      <td>US</td>\n",
       "      <td>10</td>\n",
       "      <td>9</td>\n",
       "      <td>2</td>\n",
       "      <td>0</td>\n",
       "      <td>2019-01-09 21:20:22.855000+00:00</td>\n",
       "      <td>1</td>\n",
       "      <td>4</td>\n",
       "      <td>cellular</td>\n",
       "      <td>iPhone9,1</td>\n",
       "      <td>0</td>\n",
       "    </tr>\n",
       "    <tr>\n",
       "      <th>2</th>\n",
       "      <td>5c38815de8f4e50e256e4f9c</td>\n",
       "      <td>2019-01-11 11:43:25.168000+00:00</td>\n",
       "      <td>59687f0d896a6b0e5ce6ea15</td>\n",
       "      <td>ios</td>\n",
       "      <td>12.1.2</td>\n",
       "      <td>1373094</td>\n",
       "      <td>US</td>\n",
       "      <td>27</td>\n",
       "      <td>26</td>\n",
       "      <td>0</td>\n",
       "      <td>0</td>\n",
       "      <td>2019-01-09 10:42:08.446000+00:00</td>\n",
       "      <td>1</td>\n",
       "      <td>2</td>\n",
       "      <td>cellular</td>\n",
       "      <td>iPhone7,1</td>\n",
       "      <td>0</td>\n",
       "    </tr>\n",
       "    <tr>\n",
       "      <th>3</th>\n",
       "      <td>5c409ace532d5806d2c6a5e6</td>\n",
       "      <td>2019-01-17 15:10:06.420000+00:00</td>\n",
       "      <td>59687f0d896a6b0e5ce6ea15</td>\n",
       "      <td>ios</td>\n",
       "      <td>12.1.2</td>\n",
       "      <td>1217749</td>\n",
       "      <td>US</td>\n",
       "      <td>15</td>\n",
       "      <td>14</td>\n",
       "      <td>2</td>\n",
       "      <td>0</td>\n",
       "      <td>2019-01-16 19:58:11.636000+00:00</td>\n",
       "      <td>3</td>\n",
       "      <td>14</td>\n",
       "      <td>wifi</td>\n",
       "      <td>iPhone7,2</td>\n",
       "      <td>0</td>\n",
       "    </tr>\n",
       "    <tr>\n",
       "      <th>4</th>\n",
       "      <td>5c3904b92d798c41e7f3088a</td>\n",
       "      <td>2019-01-11 21:03:53.145000+00:00</td>\n",
       "      <td>59687f0d896a6b0e5ce6ea15</td>\n",
       "      <td>ios</td>\n",
       "      <td>12.0.1</td>\n",
       "      <td>1373094</td>\n",
       "      <td>US</td>\n",
       "      <td>20</td>\n",
       "      <td>18</td>\n",
       "      <td>0</td>\n",
       "      <td>0</td>\n",
       "      <td>2019-01-11 21:03:05.103000+00:00</td>\n",
       "      <td>13</td>\n",
       "      <td>18</td>\n",
       "      <td>cellular</td>\n",
       "      <td>iPhone8,1</td>\n",
       "      <td>0</td>\n",
       "    </tr>\n",
       "  </tbody>\n",
       "</table>\n",
       "</div>"
      ],
      "text/plain": [
       "                         id                        timestamp  \\\n",
       "0  5c36658fb58fad351175f0b6 2019-01-09 21:20:15.943000+00:00   \n",
       "1  5c38d5ab1c16172870186b5a 2019-01-11 17:43:07.609000+00:00   \n",
       "2  5c38815de8f4e50e256e4f9c 2019-01-11 11:43:25.168000+00:00   \n",
       "3  5c409ace532d5806d2c6a5e6 2019-01-17 15:10:06.420000+00:00   \n",
       "4  5c3904b92d798c41e7f3088a 2019-01-11 21:03:53.145000+00:00   \n",
       "\n",
       "                 campaignId platform softwareVersion  sourceGameId country  \\\n",
       "0  59687f0d896a6b0e5ce6ea15      ios          11.4.1       1373094      US   \n",
       "1  59687f0d896a6b0e5ce6ea15      ios            12.1       2739989      US   \n",
       "2  59687f0d896a6b0e5ce6ea15      ios          12.1.2       1373094      US   \n",
       "3  59687f0d896a6b0e5ce6ea15      ios          12.1.2       1217749      US   \n",
       "4  59687f0d896a6b0e5ce6ea15      ios          12.0.1       1373094      US   \n",
       "\n",
       "   startCount  viewCount  clickCount  installCount  \\\n",
       "0          25         24           0             2   \n",
       "1          10          9           2             0   \n",
       "2          27         26           0             0   \n",
       "3          15         14           2             0   \n",
       "4          20         18           0             0   \n",
       "\n",
       "                         lastStart  startCount1d  startCount7d connectionType  \\\n",
       "0 2019-01-08 18:49:48.129000+00:00             1             8       cellular   \n",
       "1 2019-01-09 21:20:22.855000+00:00             1             4       cellular   \n",
       "2 2019-01-09 10:42:08.446000+00:00             1             2       cellular   \n",
       "3 2019-01-16 19:58:11.636000+00:00             3            14           wifi   \n",
       "4 2019-01-11 21:03:05.103000+00:00            13            18       cellular   \n",
       "\n",
       "  deviceType  install  \n",
       "0  iPhone8,2        0  \n",
       "1  iPhone9,1        0  \n",
       "2  iPhone7,1        0  \n",
       "3  iPhone7,2        0  \n",
       "4  iPhone8,1        0  "
      ]
     },
     "execution_count": 5,
     "metadata": {},
     "output_type": "execute_result"
    }
   ],
   "source": [
    "train.head()"
   ]
  },
  {
   "cell_type": "code",
   "execution_count": 6,
   "metadata": {},
   "outputs": [],
   "source": [
    "CATEGORICAL_FEATURES = [\n",
    "    'campaignId',\n",
    "    'platform',\n",
    "    'softwareVersion',\n",
    "    'sourceGameId',\n",
    "    'country',\n",
    "    'connectionType',\n",
    "    'deviceType',\n",
    "]\n",
    "NUMERICAL_FEATURES = [\n",
    "    'startCount',\n",
    "    'viewCount',\n",
    "    'clickCount',\n",
    "    'installCount',\n",
    "    'startCount1d',\n",
    "    'startCount7d',\n",
    "]\n",
    "TARGET_COLUMN = 'install'"
   ]
  },
  {
   "cell_type": "markdown",
   "metadata": {},
   "source": [
    "### Target"
   ]
  },
  {
   "cell_type": "code",
   "execution_count": 7,
   "metadata": {},
   "outputs": [
    {
     "data": {
      "text/plain": [
       "install\n",
       "0    3694019\n",
       "1      44744\n",
       "Name: count, dtype: int64"
      ]
     },
     "execution_count": 7,
     "metadata": {},
     "output_type": "execute_result"
    }
   ],
   "source": [
    "train[TARGET_COLUMN].value_counts()"
   ]
  },
  {
   "cell_type": "code",
   "execution_count": 8,
   "metadata": {},
   "outputs": [
    {
     "data": {
      "text/plain": [
       "install\n",
       "0    0.988032\n",
       "1    0.011968\n",
       "Name: proportion, dtype: float64"
      ]
     },
     "execution_count": 8,
     "metadata": {},
     "output_type": "execute_result"
    }
   ],
   "source": [
    "train[TARGET_COLUMN].value_counts(normalize=True)"
   ]
  },
  {
   "cell_type": "markdown",
   "metadata": {},
   "source": [
    "### Features"
   ]
  },
  {
   "cell_type": "code",
   "execution_count": 9,
   "metadata": {},
   "outputs": [],
   "source": [
    "features = pd.concat([train.drop(columns=['install']), \n",
    "                      test])"
   ]
  },
  {
   "cell_type": "code",
   "execution_count": 10,
   "metadata": {},
   "outputs": [
    {
     "data": {
      "text/plain": [
       "id                      0\n",
       "timestamp               0\n",
       "campaignId              0\n",
       "platform                0\n",
       "softwareVersion         0\n",
       "sourceGameId            0\n",
       "country               577\n",
       "startCount              0\n",
       "viewCount               0\n",
       "clickCount              0\n",
       "installCount            0\n",
       "lastStart          550310\n",
       "startCount1d            0\n",
       "startCount7d            0\n",
       "connectionType          0\n",
       "deviceType              5\n",
       "dtype: int64"
      ]
     },
     "execution_count": 10,
     "metadata": {},
     "output_type": "execute_result"
    }
   ],
   "source": [
    "features.isna().sum()"
   ]
  },
  {
   "cell_type": "markdown",
   "metadata": {},
   "source": [
    "#### CATEGORICAL"
   ]
  },
  {
   "cell_type": "code",
   "execution_count": 11,
   "metadata": {},
   "outputs": [
    {
     "data": {
      "text/plain": [
       "campaignId          9746\n",
       "platform               2\n",
       "softwareVersion      234\n",
       "sourceGameId       41380\n",
       "country              220\n",
       "connectionType         3\n",
       "deviceType         33978\n",
       "dtype: int64"
      ]
     },
     "execution_count": 11,
     "metadata": {},
     "output_type": "execute_result"
    }
   ],
   "source": [
    "features[CATEGORICAL_FEATURES].nunique()"
   ]
  },
  {
   "cell_type": "code",
   "execution_count": 12,
   "metadata": {},
   "outputs": [
    {
     "name": "stdout",
     "output_type": "stream",
     "text": [
      "CAT FEATURES DIFF\n",
      "[train vs. test / test vs. train]\n",
      "********************\n",
      "campaignId | [38 / 54]\n",
      "platform | [0 / 0]\n",
      "softwareVersion | [36 / 39]\n",
      "sourceGameId | [6684 / 6532]\n",
      "country | [0 / 0]\n",
      "connectionType | [0 / 0]\n",
      "deviceType | [5682 / 5681]\n"
     ]
    }
   ],
   "source": [
    "print('CAT FEATURES DIFF')\n",
    "print('[train vs. test / test vs. train]')\n",
    "print('*'*20)\n",
    "\n",
    "for cat in CATEGORICAL_FEATURES:\n",
    "    print(f'{cat} | [{len(set(train[cat]) - set(test[cat]))} / {len(set(test[cat]) - set(train[cat]))}]')"
   ]
  },
  {
   "cell_type": "markdown",
   "metadata": {},
   "source": [
    "#### NUMERICAL"
   ]
  },
  {
   "cell_type": "code",
   "execution_count": 13,
   "metadata": {},
   "outputs": [
    {
     "name": "stdout",
     "output_type": "stream",
     "text": [
      "['startCount', 'viewCount', 'clickCount', 'installCount', 'startCount1d', 'startCount7d']\n"
     ]
    }
   ],
   "source": [
    "print(NUMERICAL_FEATURES)"
   ]
  },
  {
   "cell_type": "code",
   "execution_count": 14,
   "metadata": {},
   "outputs": [
    {
     "data": {
      "image/png": "[encoded data removed]",
      "text/plain": [
       "<Figure size 1296x432 with 6 Axes>"
      ]
     },
     "metadata": {
      "needs_background": "light"
     },
     "output_type": "display_data"
    }
   ],
   "source": [
    "fig, ax = plt.subplots(2, 3, figsize=(18, 6))\n",
    "params = {'bins': 100, 'log': True, 'alpha': 0.5}\n",
    "\n",
    "for num, feature in enumerate(NUMERICAL_FEATURES):\n",
    "    i, j = num // 3, num % 3\n",
    "    ax[i, j].hist(train[feature], label='train', **params)\n",
    "    ax[i, j].hist(test[feature], label='test', **params)\n",
    "    ax[i, j].title.set_text(feature)\n",
    "\n",
    "plt.tight_layout()\n",
    "plt.legend()\n",
    "plt.show()"
   ]
  },
  {
   "cell_type": "code",
   "execution_count": null,
   "metadata": {},
   "outputs": [],
   "source": []
  }
 ],
 "metadata": {
  "kernelspec": {
   "display_name": "Python 3",
   "language": "python",
   "name": "python3"
  },
  "language_info": {
   "codemirror_mode": {
    "name": "ipython",
    "version": 3
   },
   "file_extension": ".py",
   "mimetype": "text/x-python",
   "name": "python",
   "nbconvert_exporter": "python",
   "pygments_lexer": "ipython3",
   "version": "3.8.3"
  }
 },
 "nbformat": 4,
 "nbformat_minor": 4
}
