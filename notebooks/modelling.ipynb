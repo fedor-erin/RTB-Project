{
 "cells": [
  {
   "cell_type": "markdown",
   "metadata": {},
   "source": [
    "## Model"
   ]
  },
  {
   "cell_type": "code",
   "execution_count": 2,
   "metadata": {},
   "outputs": [],
   "source": [
    "import numpy as np\n",
    "import pandas as pd\n",
    "import matplotlib.pyplot as plt"
   ]
  },
  {
   "cell_type": "code",
   "execution_count": 3,
   "metadata": {},
   "outputs": [],
   "source": [
    "def read_data(file_path):\n",
    "    return pd.read_csv(\n",
    "        file_path, \n",
    "        sep=';',\n",
    "        header=0,\n",
    "        compression='gzip', \n",
    "        parse_dates=['timestamp', 'lastStart']\n",
    "    )"
   ]
  },
  {
   "cell_type": "markdown",
   "metadata": {},
   "source": [
    "### Data"
   ]
  },
  {
   "cell_type": "code",
   "execution_count": 4,
   "metadata": {},
   "outputs": [
    {
     "name": "stdout",
     "output_type": "stream",
     "text": [
      "(3738763, 17) (3739968, 16)\n",
      "CPU times: user 2min 9s, sys: 3.03 s, total: 2min 12s\n",
      "Wall time: 2min 12s\n"
     ]
    }
   ],
   "source": [
    "%%time\n",
    "train_ = read_data('../data/raw/training_data.csv.gz')\n",
    "test_ = read_data('../data/raw/test_data.csv.gz')\n",
    "print(train_.shape, test_.shape)"
   ]
  },
  {
   "cell_type": "code",
   "execution_count": 5,
   "metadata": {},
   "outputs": [],
   "source": [
    "# sample for easy testing\n",
    "train = train_.sample(n=10000, random_state=100).reset_index(drop=True)\n",
    "test = test_.sample(n=10000, random_state=100).reset_index(drop=True)"
   ]
  },
  {
   "cell_type": "code",
   "execution_count": 6,
   "metadata": {
    "scrolled": true
   },
   "outputs": [
    {
     "data": {
      "text/html": [
       "<div>\n",
       "<style scoped>\n",
       "    .dataframe tbody tr th:only-of-type {\n",
       "        vertical-align: middle;\n",
       "    }\n",
       "\n",
       "    .dataframe tbody tr th {\n",
       "        vertical-align: top;\n",
       "    }\n",
       "\n",
       "    .dataframe thead th {\n",
       "        text-align: right;\n",
       "    }\n",
       "</style>\n",
       "<table border=\"1\" class=\"dataframe\">\n",
       "  <thead>\n",
       "    <tr style=\"text-align: right;\">\n",
       "      <th></th>\n",
       "      <th>id</th>\n",
       "      <th>timestamp</th>\n",
       "      <th>campaignId</th>\n",
       "      <th>platform</th>\n",
       "      <th>softwareVersion</th>\n",
       "      <th>sourceGameId</th>\n",
       "      <th>country</th>\n",
       "      <th>startCount</th>\n",
       "      <th>viewCount</th>\n",
       "      <th>clickCount</th>\n",
       "      <th>installCount</th>\n",
       "      <th>lastStart</th>\n",
       "      <th>startCount1d</th>\n",
       "      <th>startCount7d</th>\n",
       "      <th>connectionType</th>\n",
       "      <th>deviceType</th>\n",
       "      <th>install</th>\n",
       "    </tr>\n",
       "  </thead>\n",
       "  <tbody>\n",
       "    <tr>\n",
       "      <th>0</th>\n",
       "      <td>5c3a4fa40c7e35f21632a67c</td>\n",
       "      <td>2019-01-12 20:35:48.851000+00:00</td>\n",
       "      <td>5c232d77f76b8fd4b9ab3c99</td>\n",
       "      <td>android</td>\n",
       "      <td>8.0.0</td>\n",
       "      <td>2626028</td>\n",
       "      <td>RU</td>\n",
       "      <td>49</td>\n",
       "      <td>44</td>\n",
       "      <td>5</td>\n",
       "      <td>1</td>\n",
       "      <td>2019-01-12 20:33:57.144000+00:00</td>\n",
       "      <td>21</td>\n",
       "      <td>33</td>\n",
       "      <td>cellular</td>\n",
       "      <td>HUAWEI RNE-L21</td>\n",
       "      <td>0</td>\n",
       "    </tr>\n",
       "    <tr>\n",
       "      <th>1</th>\n",
       "      <td>5c383b79d705e1884b4f0bd0</td>\n",
       "      <td>2019-01-11 06:45:13.455000+00:00</td>\n",
       "      <td>5c3788bb705b743d24f107e2</td>\n",
       "      <td>ios</td>\n",
       "      <td>12.1.2</td>\n",
       "      <td>1471374</td>\n",
       "      <td>JP</td>\n",
       "      <td>429</td>\n",
       "      <td>425</td>\n",
       "      <td>16</td>\n",
       "      <td>7</td>\n",
       "      <td>2019-01-11 06:44:33.502000+00:00</td>\n",
       "      <td>13</td>\n",
       "      <td>118</td>\n",
       "      <td>wifi</td>\n",
       "      <td>iPhone8,2</td>\n",
       "      <td>0</td>\n",
       "    </tr>\n",
       "  </tbody>\n",
       "</table>\n",
       "</div>"
      ],
      "text/plain": [
       "                         id                        timestamp  \\\n",
       "0  5c3a4fa40c7e35f21632a67c 2019-01-12 20:35:48.851000+00:00   \n",
       "1  5c383b79d705e1884b4f0bd0 2019-01-11 06:45:13.455000+00:00   \n",
       "\n",
       "                 campaignId platform softwareVersion  sourceGameId country  \\\n",
       "0  5c232d77f76b8fd4b9ab3c99  android           8.0.0       2626028      RU   \n",
       "1  5c3788bb705b743d24f107e2      ios          12.1.2       1471374      JP   \n",
       "\n",
       "   startCount  viewCount  clickCount  installCount  \\\n",
       "0          49         44           5             1   \n",
       "1         429        425          16             7   \n",
       "\n",
       "                         lastStart  startCount1d  startCount7d connectionType  \\\n",
       "0 2019-01-12 20:33:57.144000+00:00            21            33       cellular   \n",
       "1 2019-01-11 06:44:33.502000+00:00            13           118           wifi   \n",
       "\n",
       "       deviceType  install  \n",
       "0  HUAWEI RNE-L21        0  \n",
       "1       iPhone8,2        0  "
      ]
     },
     "execution_count": 6,
     "metadata": {},
     "output_type": "execute_result"
    }
   ],
   "source": [
    "train.head(2)"
   ]
  },
  {
   "cell_type": "markdown",
   "metadata": {},
   "source": [
    "### Dataset"
   ]
  },
  {
   "cell_type": "code",
   "execution_count": 7,
   "metadata": {},
   "outputs": [],
   "source": [
    "CATEGORICAL_FEATURES = [\n",
    "    'campaignId',\n",
    "    'platform',\n",
    "    'softwareVersion',\n",
    "    'sourceGameId',\n",
    "    'country',\n",
    "    'connectionType',\n",
    "    'deviceType',\n",
    "]\n",
    "NUMERICAL_FEATURES = [\n",
    "    'startCount',\n",
    "    'viewCount',\n",
    "    'clickCount',\n",
    "    'installCount',\n",
    "    'startCount1d',\n",
    "    'startCount7d',\n",
    "    'fromLastStart', # new feature\n",
    "]\n",
    "TARGET = 'install'\n",
    "\n",
    "def generate_features(df: pd.DataFrame) -> pd.DataFrame:\n",
    "    \"\"\"\n",
    "    Feature generation\n",
    "    \"\"\"\n",
    "    # add diff in hours between the event and last any campaign start\n",
    "    data = df.copy()\n",
    "    data['fromLastStart'] = (data['timestamp'] - data['lastStart']).apply(lambda x: x.total_seconds() / 3600)\n",
    "    return data\n",
    "\n",
    "def process_raw(df: pd.DataFrame,\n",
    "                mode: str = 'train') -> pd.DataFrame:\n",
    "    \"\"\"\n",
    "    Preprocess a raw data into a dataset\n",
    "    \"\"\"\n",
    "    # feature generation\n",
    "    df = generate_features(df)\n",
    "\n",
    "    # handling NaNs\n",
    "    df[CATEGORICAL_FEATURES] = df[CATEGORICAL_FEATURES].fillna(value='Unknown')\n",
    "    df[NUMERICAL_FEATURES] = df[NUMERICAL_FEATURES].fillna(value=-1)\n",
    "    \n",
    "    # resulting columns\n",
    "    columns = CATEGORICAL_FEATURES + NUMERICAL_FEATURES\n",
    "    if mode == 'train':\n",
    "        columns += [TARGET]\n",
    "        \n",
    "    return df[columns]"
   ]
  },
  {
   "cell_type": "code",
   "execution_count": 8,
   "metadata": {},
   "outputs": [
    {
     "name": "stdout",
     "output_type": "stream",
     "text": [
      "CPU times: user 60.7 ms, sys: 2.33 ms, total: 63 ms\n",
      "Wall time: 61.9 ms\n"
     ]
    }
   ],
   "source": [
    "%%time\n",
    "train_df = process_raw(train, 'train')\n",
    "test_df = process_raw(test, 'test')"
   ]
  },
  {
   "cell_type": "code",
   "execution_count": 9,
   "metadata": {},
   "outputs": [
    {
     "data": {
      "text/html": [
       "<div>\n",
       "<style scoped>\n",
       "    .dataframe tbody tr th:only-of-type {\n",
       "        vertical-align: middle;\n",
       "    }\n",
       "\n",
       "    .dataframe tbody tr th {\n",
       "        vertical-align: top;\n",
       "    }\n",
       "\n",
       "    .dataframe thead th {\n",
       "        text-align: right;\n",
       "    }\n",
       "</style>\n",
       "<table border=\"1\" class=\"dataframe\">\n",
       "  <thead>\n",
       "    <tr style=\"text-align: right;\">\n",
       "      <th></th>\n",
       "      <th>campaignId</th>\n",
       "      <th>platform</th>\n",
       "      <th>softwareVersion</th>\n",
       "      <th>sourceGameId</th>\n",
       "      <th>country</th>\n",
       "      <th>connectionType</th>\n",
       "      <th>deviceType</th>\n",
       "      <th>startCount</th>\n",
       "      <th>viewCount</th>\n",
       "      <th>clickCount</th>\n",
       "      <th>installCount</th>\n",
       "      <th>startCount1d</th>\n",
       "      <th>startCount7d</th>\n",
       "      <th>fromLastStart</th>\n",
       "      <th>install</th>\n",
       "    </tr>\n",
       "  </thead>\n",
       "  <tbody>\n",
       "    <tr>\n",
       "      <th>0</th>\n",
       "      <td>5c232d77f76b8fd4b9ab3c99</td>\n",
       "      <td>android</td>\n",
       "      <td>8.0.0</td>\n",
       "      <td>2626028</td>\n",
       "      <td>RU</td>\n",
       "      <td>cellular</td>\n",
       "      <td>HUAWEI RNE-L21</td>\n",
       "      <td>49</td>\n",
       "      <td>44</td>\n",
       "      <td>5</td>\n",
       "      <td>1</td>\n",
       "      <td>21</td>\n",
       "      <td>33</td>\n",
       "      <td>0.031030</td>\n",
       "      <td>0</td>\n",
       "    </tr>\n",
       "    <tr>\n",
       "      <th>1</th>\n",
       "      <td>5c3788bb705b743d24f107e2</td>\n",
       "      <td>ios</td>\n",
       "      <td>12.1.2</td>\n",
       "      <td>1471374</td>\n",
       "      <td>JP</td>\n",
       "      <td>wifi</td>\n",
       "      <td>iPhone8,2</td>\n",
       "      <td>429</td>\n",
       "      <td>425</td>\n",
       "      <td>16</td>\n",
       "      <td>7</td>\n",
       "      <td>13</td>\n",
       "      <td>118</td>\n",
       "      <td>0.011098</td>\n",
       "      <td>0</td>\n",
       "    </tr>\n",
       "  </tbody>\n",
       "</table>\n",
       "</div>"
      ],
      "text/plain": [
       "                 campaignId platform softwareVersion  sourceGameId country  \\\n",
       "0  5c232d77f76b8fd4b9ab3c99  android           8.0.0       2626028      RU   \n",
       "1  5c3788bb705b743d24f107e2      ios          12.1.2       1471374      JP   \n",
       "\n",
       "  connectionType      deviceType  startCount  viewCount  clickCount  \\\n",
       "0       cellular  HUAWEI RNE-L21          49         44           5   \n",
       "1           wifi       iPhone8,2         429        425          16   \n",
       "\n",
       "   installCount  startCount1d  startCount7d  fromLastStart  install  \n",
       "0             1            21            33       0.031030        0  \n",
       "1             7            13           118       0.011098        0  "
      ]
     },
     "execution_count": 9,
     "metadata": {},
     "output_type": "execute_result"
    }
   ],
   "source": [
    "train_df.head(2)"
   ]
  },
  {
   "cell_type": "code",
   "execution_count": 10,
   "metadata": {},
   "outputs": [
    {
     "data": {
      "text/html": [
       "<div>\n",
       "<style scoped>\n",
       "    .dataframe tbody tr th:only-of-type {\n",
       "        vertical-align: middle;\n",
       "    }\n",
       "\n",
       "    .dataframe tbody tr th {\n",
       "        vertical-align: top;\n",
       "    }\n",
       "\n",
       "    .dataframe thead th {\n",
       "        text-align: right;\n",
       "    }\n",
       "</style>\n",
       "<table border=\"1\" class=\"dataframe\">\n",
       "  <thead>\n",
       "    <tr style=\"text-align: right;\">\n",
       "      <th></th>\n",
       "      <th>campaignId</th>\n",
       "      <th>platform</th>\n",
       "      <th>softwareVersion</th>\n",
       "      <th>sourceGameId</th>\n",
       "      <th>country</th>\n",
       "      <th>connectionType</th>\n",
       "      <th>deviceType</th>\n",
       "      <th>startCount</th>\n",
       "      <th>viewCount</th>\n",
       "      <th>clickCount</th>\n",
       "      <th>installCount</th>\n",
       "      <th>startCount1d</th>\n",
       "      <th>startCount7d</th>\n",
       "      <th>fromLastStart</th>\n",
       "    </tr>\n",
       "  </thead>\n",
       "  <tbody>\n",
       "    <tr>\n",
       "      <th>0</th>\n",
       "      <td>5bb7211e53625e0830b9731a</td>\n",
       "      <td>ios</td>\n",
       "      <td>12.1.1</td>\n",
       "      <td>51050</td>\n",
       "      <td>GB</td>\n",
       "      <td>wifi</td>\n",
       "      <td>iPad6,11</td>\n",
       "      <td>41</td>\n",
       "      <td>25</td>\n",
       "      <td>0</td>\n",
       "      <td>2</td>\n",
       "      <td>3</td>\n",
       "      <td>27</td>\n",
       "      <td>2.991623</td>\n",
       "    </tr>\n",
       "    <tr>\n",
       "      <th>1</th>\n",
       "      <td>5c2c5ef7d3e81e3aefbf830e</td>\n",
       "      <td>android</td>\n",
       "      <td>6.0</td>\n",
       "      <td>15939</td>\n",
       "      <td>RO</td>\n",
       "      <td>cellular</td>\n",
       "      <td>LGE LG-K430</td>\n",
       "      <td>3</td>\n",
       "      <td>2</td>\n",
       "      <td>0</td>\n",
       "      <td>0</td>\n",
       "      <td>3</td>\n",
       "      <td>3</td>\n",
       "      <td>0.539225</td>\n",
       "    </tr>\n",
       "  </tbody>\n",
       "</table>\n",
       "</div>"
      ],
      "text/plain": [
       "                 campaignId platform softwareVersion  sourceGameId country  \\\n",
       "0  5bb7211e53625e0830b9731a      ios          12.1.1         51050      GB   \n",
       "1  5c2c5ef7d3e81e3aefbf830e  android             6.0         15939      RO   \n",
       "\n",
       "  connectionType   deviceType  startCount  viewCount  clickCount  \\\n",
       "0           wifi     iPad6,11          41         25           0   \n",
       "1       cellular  LGE LG-K430           3          2           0   \n",
       "\n",
       "   installCount  startCount1d  startCount7d  fromLastStart  \n",
       "0             2             3            27       2.991623  \n",
       "1             0             3             3       0.539225  "
      ]
     },
     "execution_count": 10,
     "metadata": {},
     "output_type": "execute_result"
    }
   ],
   "source": [
    "test_df.head(2)"
   ]
  },
  {
   "cell_type": "markdown",
   "metadata": {},
   "source": [
    "### Pipeline/model/metrics"
   ]
  },
  {
   "cell_type": "code",
   "execution_count": 11,
   "metadata": {},
   "outputs": [],
   "source": [
    "from os import path\n",
    "from datetime import datetime\n",
    "from typing import Tuple\n",
    "import yaml\n",
    "import joblib\n",
    "\n",
    "from sklearn.pipeline import Pipeline\n",
    "from sklearn.compose import ColumnTransformer\n",
    "from sklearn.preprocessing import StandardScaler, OneHotEncoder \n",
    "from sklearn.linear_model import LogisticRegression\n",
    "from sklearn.model_selection import cross_val_score\n",
    "\n",
    "RANDOM_SEED = 100\n",
    "\n",
    "\n",
    "def build_pipeline() -> Pipeline:\n",
    "    \"\"\"\n",
    "    Build a pipeline of a scaler, one-hot encoder and a classifier model\n",
    "    \"\"\"\n",
    "    num_transformer = StandardScaler()\n",
    "    cat_transformer = OneHotEncoder(handle_unknown='ignore')\n",
    "\n",
    "    preprocessor = ColumnTransformer(transformers=[('scaler', num_transformer, NUMERICAL_FEATURES),\n",
    "                                                   ('ohe', cat_transformer, CATEGORICAL_FEATURES)])\n",
    "\n",
    "    pipeline = Pipeline(steps=[('preprocessor', preprocessor),\n",
    "                               ('classifier', LogisticRegression(random_state=RANDOM_SEED))])\n",
    "    return pipeline\n",
    "\n",
    "def cross_validation_scores(pipeline: Pipeline, \n",
    "                            X: pd.DataFrame,\n",
    "                            y: pd.Series,\n",
    "                            cv: int = 5) -> dict:\n",
    "    \"\"\"\n",
    "    Get cross validation scores\n",
    "    \"\"\"\n",
    "    params = {'estimator': pipeline, \n",
    "              'X': X, \n",
    "              'y': y}\n",
    "    \n",
    "    roc_auc = cross_val_score(**params, scoring='roc_auc')\n",
    "    roc_auc_cv = f\"{roc_auc.mean():.3f} (+-{roc_auc.std():.3f})\"\n",
    "    \n",
    "    brier = -cross_val_score(**params, scoring='neg_brier_score')\n",
    "    brier_cv = f\"{brier.mean():.3f} (+-{brier.std():.3f})\"\n",
    "    \n",
    "    log_loss = -cross_val_score(**params, scoring='neg_log_loss')\n",
    "    log_loss_cv = f\"{log_loss.mean():.3f} (+-{log_loss.std():.3f})\"\n",
    "    \n",
    "    return {\n",
    "        'roc_auc': roc_auc_cv,\n",
    "        'brier': brier_cv,\n",
    "        'log_loss': log_loss_cv,\n",
    "    }\n",
    "\n",
    "def save_model(pipeline: Pipeline, version: str) -> None:\n",
    "    \"\"\"\n",
    "    Save model/pipeline into pickle file\n",
    "    \"\"\"\n",
    "    model_path = path.join('../models/', f'pipeline_{version}.pkl')\n",
    "    joblib.dump(pipeline, model_path)\n",
    "    \n",
    "def save_report(pipeline: Pipeline, metrics: dict, version: str) -> None:\n",
    "    \"\"\"\n",
    "    Save model parameters and cross-validation metrics into YAML file\n",
    "    \"\"\"\n",
    "    report_path = path.join('../reports/', f'report_{version}.yaml')\n",
    "    report = {\n",
    "        'model_params': {k: v for k, v in pipeline.get_params().items() if k.startswith('classifier_')},\n",
    "        'metrics_cross_val': metrics,\n",
    "    }\n",
    "    with open(report_path, 'w') as f:\n",
    "        yaml.dump(report, f, allow_unicode=True, default_flow_style=False)\n",
    "        \n",
    "def save_predictions(predictions: np.array, version: str) -> None:\n",
    "    \"\"\"\n",
    "    Save model predictions for test data\n",
    "    \"\"\"\n",
    "    preds_path = path.join('../data/predictions/', f'predictions_{version}.npy') \n",
    "    with open(preds_path, 'wb') as f:\n",
    "        np.save(f, predictions)\n",
    "\n",
    "def train_pipeline(train_df: pd.DataFrame) -> Tuple[Pipeline, dict]:\n",
    "    \"\"\"\n",
    "    Train a model pipeline, report metrics, save it\n",
    "    \"\"\"\n",
    "    X, y = train_df[CATEGORICAL_FEATURES+NUMERICAL_FEATURES], train_df[TARGET]\n",
    "    print(f'The dataset {X.shape} is ready.')\n",
    "\n",
    "    pipeline = build_pipeline()\n",
    "    print('The pipeline is built:', pipeline)\n",
    "\n",
    "    pipeline.fit(X, y)\n",
    "    print('The model is trained.')\n",
    "    \n",
    "    metrics = cross_validation_scores(pipeline, X, y)\n",
    "    print('The cross validation metrics are done.')\n",
    "    \n",
    "    version = datetime.now().strftime('%Y%m%d')\n",
    "    save_model(pipeline, version)\n",
    "    save_report(pipeline, metrics, version)\n",
    "    print('The model and report with metrics are saved.')\n",
    "\n",
    "    return pipeline, metrics\n",
    "\n",
    "def make_predictions(pipeline: Pipeline, test_df: pd.DataFrame) -> None:\n",
    "    \"\"\"\n",
    "    Make a prediction for a probability of class=1 and save it\n",
    "    \"\"\"\n",
    "    preds = pipeline.predict_proba(test_df[CATEGORICAL_FEATURES+NUMERICAL_FEATURES])[:, 1]\n",
    "    version = datetime.now().strftime('%Y%m%d')\n",
    "    save_predictions(preds, version)\n",
    "    return preds"
   ]
  },
  {
   "cell_type": "code",
   "execution_count": 12,
   "metadata": {},
   "outputs": [
    {
     "name": "stdout",
     "output_type": "stream",
     "text": [
      "The dataset (10000, 14) is ready.\n",
      "The pipeline is built: Pipeline(steps=[('preprocessor',\n",
      "                 ColumnTransformer(transformers=[('scaler', StandardScaler(),\n",
      "                                                  ['startCount', 'viewCount',\n",
      "                                                   'clickCount', 'installCount',\n",
      "                                                   'startCount1d',\n",
      "                                                   'startCount7d',\n",
      "                                                   'fromLastStart']),\n",
      "                                                 ('ohe',\n",
      "                                                  OneHotEncoder(handle_unknown='ignore'),\n",
      "                                                  ['campaignId', 'platform',\n",
      "                                                   'softwareVersion',\n",
      "                                                   'sourceGameId', 'country',\n",
      "                                                   'connectionType',\n",
      "                                                   'deviceType'])])),\n",
      "                ('classifier', LogisticRegression(random_state=100))])\n",
      "The model is trained.\n",
      "The cross validation metrics are done.\n",
      "The model and report with metrics are saved.\n"
     ]
    }
   ],
   "source": [
    "pipeline, metrics = train_pipeline(train_df)"
   ]
  },
  {
   "cell_type": "code",
   "execution_count": 13,
   "metadata": {},
   "outputs": [
    {
     "data": {
      "text/plain": [
       "{'roc_auc': '0.549 (+-0.049)',\n",
       " 'brier': '0.011 (+-0.000)',\n",
       " 'log_loss': '0.062 (+-0.003)'}"
      ]
     },
     "execution_count": 13,
     "metadata": {},
     "output_type": "execute_result"
    }
   ],
   "source": [
    "metrics"
   ]
  },
  {
   "cell_type": "code",
   "execution_count": 14,
   "metadata": {},
   "outputs": [
    {
     "data": {
      "image/png": "[encoded data removed]",
      "text/plain": [
       "<Figure size 432x288 with 1 Axes>"
      ]
     },
     "metadata": {
      "needs_background": "light"
     },
     "output_type": "display_data"
    }
   ],
   "source": [
    "preds = make_predictions(pipeline, test_df)\n",
    "plt.hist(preds, bins=100, log=True)\n",
    "plt.show()"
   ]
  },
  {
   "cell_type": "code",
   "execution_count": null,
   "metadata": {},
   "outputs": [],
   "source": []
  }
 ],
 "metadata": {
  "kernelspec": {
   "display_name": "Python 3",
   "language": "python",
   "name": "python3"
  },
  "language_info": {
   "codemirror_mode": {
    "name": "ipython",
    "version": 3
   },
   "file_extension": ".py",
   "mimetype": "text/x-python",
   "name": "python",
   "nbconvert_exporter": "python",
   "pygments_lexer": "ipython3",
   "version": "3.8.3"
  }
 },
 "nbformat": 4,
 "nbformat_minor": 4
}
